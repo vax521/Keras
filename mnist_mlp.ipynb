{
 "cells": [
  {
   "cell_type": "markdown",
   "metadata": {},
   "source": [
    "# Train a simple deep NN on the MNIST dataset"
   ]
  },
  {
   "cell_type": "code",
   "execution_count": 35,
   "metadata": {},
   "outputs": [],
   "source": [
    "#from _future_ import print_function\n",
    "import keras\n",
    "import numpy as np\n",
    "np.random.seed(1337)  # for reproducibility\n",
    "\n",
    "from keras.datasets import mnist\n",
    "from keras.models import Sequential\n",
    "from keras.layers import Dense,Dropout\n",
    "from keras.optimizers import RMSprop\n",
    "from keras.utils import np_utils\n",
    "\n",
    "batch_size = 128\n",
    "num_classes = 10\n",
    "epochs = 20"
   ]
  },
  {
   "cell_type": "code",
   "execution_count": 36,
   "metadata": {
    "scrolled": true
   },
   "outputs": [
    {
     "name": "stdout",
     "output_type": "stream",
     "text": [
      "60000 train simples\n",
      "10000 test simples\n"
     ]
    }
   ],
   "source": [
    "#Load and remake data\n",
    "(x_train,y_train),(x_test,y_test) = mnist.load_data()\n",
    "x_train = x_train.reshape(60000,784)\n",
    "x_test = x_test.reshape(10000,784)\n",
    "x_train = x_train.astype('float32')\n",
    "x_test = x_test.astype('float32')\n",
    "#归一化到0-1\n",
    "x_train /= 255\n",
    "x_test /= 255\n",
    "print(x_train.shape[0],'train simples')\n",
    "print(x_test.shape[0],'test simples')"
   ]
  },
  {
   "cell_type": "code",
   "execution_count": 37,
   "metadata": {},
   "outputs": [],
   "source": [
    "# 将类别向量(从0到nb_classes的整数向量)映射为二值类别矩阵, 用于应用到以categorical_crossentropy为目标函数的模型中.\n",
    "# y: 类别向量; nb_classes:总共类别数\n",
    "y_train = keras.utils.to_categorical(y_train, num_classes)\n",
    "y_test = keras.utils.to_categorical(y_test, num_classes)"
   ]
  },
  {
   "cell_type": "code",
   "execution_count": 38,
   "metadata": {},
   "outputs": [
    {
     "name": "stdout",
     "output_type": "stream",
     "text": [
      "model.summary:\n",
      "_________________________________________________________________\n",
      "Layer (type)                 Output Shape              Param #   \n",
      "=================================================================\n",
      "dense_16 (Dense)             (None, 512)               401920    \n",
      "_________________________________________________________________\n",
      "dropout_11 (Dropout)         (None, 512)               0         \n",
      "_________________________________________________________________\n",
      "dense_17 (Dense)             (None, 512)               262656    \n",
      "_________________________________________________________________\n",
      "dropout_12 (Dropout)         (None, 512)               0         \n",
      "_________________________________________________________________\n",
      "dense_18 (Dense)             (None, 10)                5130      \n",
      "=================================================================\n",
      "Total params: 669,706\n",
      "Trainable params: 669,706\n",
      "Non-trainable params: 0\n",
      "_________________________________________________________________\n",
      "Train on 60000 samples, validate on 10000 samples\n",
      "Epoch 1/20\n",
      "60000/60000 [==============================] - 9s 148us/step - loss: 0.2575 - acc: 0.9202 - val_loss: 0.1421 - val_acc: 0.9556\n",
      "Epoch 2/20\n",
      "60000/60000 [==============================] - 8s 140us/step - loss: 0.1290 - acc: 0.9608 - val_loss: 0.0892 - val_acc: 0.9713\n",
      "Epoch 3/20\n",
      "60000/60000 [==============================] - 8s 139us/step - loss: 0.1021 - acc: 0.9689 - val_loss: 0.1032 - val_acc: 0.9712\n",
      "Epoch 4/20\n",
      "60000/60000 [==============================] - 8s 140us/step - loss: 0.0919 - acc: 0.9728 - val_loss: 0.0839 - val_acc: 0.9757\n",
      "Epoch 5/20\n",
      "60000/60000 [==============================] - 9s 146us/step - loss: 0.0831 - acc: 0.9755 - val_loss: 0.1027 - val_acc: 0.9744\n",
      "Epoch 6/20\n",
      "60000/60000 [==============================] - 9s 145us/step - loss: 0.0798 - acc: 0.9771 - val_loss: 0.1050 - val_acc: 0.9731\n",
      "Epoch 7/20\n",
      "60000/60000 [==============================] - 9s 146us/step - loss: 0.0723 - acc: 0.9784 - val_loss: 0.0976 - val_acc: 0.9776\n",
      "Epoch 8/20\n",
      "60000/60000 [==============================] - 9s 150us/step - loss: 0.0691 - acc: 0.9802 - val_loss: 0.0975 - val_acc: 0.9762\n",
      "Epoch 9/20\n",
      "60000/60000 [==============================] - 9s 147us/step - loss: 0.0718 - acc: 0.9798 - val_loss: 0.0848 - val_acc: 0.9819\n",
      "Epoch 10/20\n",
      "60000/60000 [==============================] - 9s 144us/step - loss: 0.0650 - acc: 0.9821 - val_loss: 0.0988 - val_acc: 0.9789\n",
      "Epoch 11/20\n",
      "60000/60000 [==============================] - 9s 151us/step - loss: 0.0623 - acc: 0.9835 - val_loss: 0.0882 - val_acc: 0.9803\n",
      "Epoch 12/20\n",
      "60000/60000 [==============================] - 8s 137us/step - loss: 0.0623 - acc: 0.9831 - val_loss: 0.1146 - val_acc: 0.9749\n",
      "Epoch 13/20\n",
      "60000/60000 [==============================] - 8s 139us/step - loss: 0.0611 - acc: 0.9835 - val_loss: 0.1056 - val_acc: 0.9803\n",
      "Epoch 14/20\n",
      "60000/60000 [==============================] - 8s 138us/step - loss: 0.0591 - acc: 0.9839 - val_loss: 0.1019 - val_acc: 0.9798\n",
      "Epoch 15/20\n",
      "60000/60000 [==============================] - 9s 149us/step - loss: 0.0605 - acc: 0.9846 - val_loss: 0.1073 - val_acc: 0.9789\n",
      "Epoch 16/20\n",
      "60000/60000 [==============================] - 8s 138us/step - loss: 0.0576 - acc: 0.9861 - val_loss: 0.1092 - val_acc: 0.9819\n",
      "Epoch 17/20\n",
      "60000/60000 [==============================] - 9s 145us/step - loss: 0.0585 - acc: 0.9853 - val_loss: 0.1099 - val_acc: 0.9808\n",
      "Epoch 18/20\n",
      "60000/60000 [==============================] - 8s 138us/step - loss: 0.0577 - acc: 0.9864 - val_loss: 0.1204 - val_acc: 0.9811\n",
      "Epoch 19/20\n",
      "60000/60000 [==============================] - 8s 138us/step - loss: 0.0564 - acc: 0.9865 - val_loss: 0.1221 - val_acc: 0.9802\n",
      "Epoch 20/20\n",
      "60000/60000 [==============================] - 8s 135us/step - loss: 0.0551 - acc: 0.9871 - val_loss: 0.1291 - val_acc: 0.9806\n",
      "Final Test loss: 0.129076222247\n",
      "Final Test accuracy: 0.9806\n"
     ]
    }
   ],
   "source": [
    "# Dense层:即全连接层\n",
    "# keras.layers.core.Dense(\n",
    "#   output_dim, \n",
    "#   init='glorot_uniform', \n",
    "#   activation='linear', \n",
    "#   weights=None, \n",
    "#   W_regularizer=None,\n",
    "#    b_regularizer=None, \n",
    "#    activity_regularizer=None, \n",
    "#    W_constraint=None, \n",
    "#   b_constraint=None, \n",
    "#   bias=True, \n",
    "#    input_dim=None)\n",
    "\n",
    "#定义贯序模型\n",
    "model = Sequential()\n",
    "model.add(Dense(512,activation='linear',input_shape=(784,)))\n",
    "# Dropout  需要断开的连接的比例---防止过拟合\n",
    "model.add(Dropout(0.2))\n",
    "\n",
    "model.add(Dense(512,activation='relu'))\n",
    "model.add(Dropout(0.2))\n",
    "model.add(Dense(num_classes, activation='softmax'))\n",
    "# 打印出模型概况\n",
    "print('model.summary:')\n",
    "model.summary()\n",
    "\n",
    "#在训练模型之前，通过compile来对学习过程进行配置\n",
    "# 编译模型以供训练\n",
    "# 包含评估模型在训练和测试时的性能的指标，典型用法是metrics=['accuracy']\n",
    "# 如果要在多输出模型中为不同的输出指定不同的指标，可像该参数传递一个字典，例如metrics={'ouput_a': 'accuracy'}\n",
    "model.compile(loss='categorical_crossentropy',\n",
    "             optimizer=RMSprop(),\n",
    "             metrics=['accuracy'])\n",
    "#训练模型\n",
    "# Keras以Numpy数组作为输入数据和标签的数据类型\n",
    "# fit(self, x, y, batch_size=32, \n",
    "# nb_epoch=10, verbose=1, callbacks=[], \n",
    "# validation_split=0.0,validation_data=None, \n",
    "# shuffle=True, class_weight=None, \n",
    "# sample_weight=None)\n",
    "# nb_epoch：整数，训练的轮数，训练数据将会被遍历nb_epoch次。Keras中nb开头的变量均为\"number of\"的意思\n",
    "# verbose：日志显示，0为不在标准输出流输出日志信息，1为输出进度条记录，2为每个epoch输出一行记录\n",
    "# shuffle：布尔值，表示是否在训练过程中每个epoch前随机打乱输入样本的顺序。\n",
    "\n",
    "# fit函数返回一个History的对象，其History.history属性记录了损失函数和其他指标的数值随epoch变化的情况，如果有验证集的话，也包含了验证集的这些指标变化情况\n",
    "history = model.fit(x_train, y_train,\n",
    "                    batch_size=batch_size,\n",
    "                    epochs=epochs,\n",
    "                    verbose=1,\n",
    "                    validation_data=(x_test, y_test))\n",
    "score = model.evaluate(x_test, y_test, verbose=0)\n",
    "print('Final Test loss:', score[0])\n",
    "print('Final Test accuracy:', score[1])"
   ]
  },
  {
   "cell_type": "markdown",
   "metadata": {},
   "source": [
    "##  结果分析\n",
    "dropout=0.2，dropout=0.2的结果：\n",
    "Final Test loss: 0.111594470589\n",
    "Final Test accuracy: 0.9835\n",
    "\n",
    "dropout=0.2，dropout=0.3的结果：\n",
    "Final Test loss: 0.108411227955\n",
    "Final Test accuracy: 0.9832\n",
    "\n",
    "dropout=0.1，dropout=0.1的结果：\n",
    "Final Test loss: 0.12482077565\n",
    "Final Test accuracy: 0.9833\n",
    "\n",
    "dropout=0.2，dropout=0.2，epochs=30的结果：\n",
    "Final Test loss: 0.137473855173\n",
    "Final Test accuracy: 0.9835\n",
    "\n",
    "dropout=0.2，dropout=0.2,激活函数采用relu的结果：\n",
    "Final Test loss: 0.129076222247\n",
    "Final Test accuracy: 0.9806"
   ]
  }
 ],
 "metadata": {
  "kernelspec": {
   "display_name": "Python 3",
   "language": "python",
   "name": "python3"
  },
  "language_info": {
   "codemirror_mode": {
    "name": "ipython",
    "version": 3
   },
   "file_extension": ".py",
   "mimetype": "text/x-python",
   "name": "python",
   "nbconvert_exporter": "python",
   "pygments_lexer": "ipython3",
   "version": "3.5.4"
  }
 },
 "nbformat": 4,
 "nbformat_minor": 2
}
