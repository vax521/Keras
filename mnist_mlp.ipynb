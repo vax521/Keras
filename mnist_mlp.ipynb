{
 "cells": [
  {
   "cell_type": "markdown",
   "metadata": {},
   "source": [
    "# Train a simple deep NN on the MNIST dataset"
   ]
  },
  {
   "cell_type": "code",
   "execution_count": 19,
   "metadata": {},
   "outputs": [],
   "source": [
    "#from _future_ import print_function\n",
    "import keras\n",
    "import numpy as np\n",
    "np.random.seed(1337)  # for reproducibility\n",
    "\n",
    "from keras.datasets import mnist\n",
    "from keras.models import Sequential\n",
    "from keras.layers import Dense,Dropout\n",
    "from keras.optimizers import RMSprop\n",
    "from keras.utils import np_utils\n",
    "\n",
    "batch_size = 128\n",
    "num_classes = 10\n",
    "epochs = 20"
   ]
  },
  {
   "cell_type": "code",
   "execution_count": 20,
   "metadata": {
    "scrolled": true
   },
   "outputs": [
    {
     "name": "stdout",
     "output_type": "stream",
     "text": [
      "60000 train simples\n",
      "10000 test simples\n"
     ]
    }
   ],
   "source": [
    "#Load and remake data\n",
    "(x_train,y_train),(x_test,y_test) = mnist.load_data()\n",
    "x_train = x_train.reshape(60000,784)\n",
    "x_test = x_test.reshape(10000,784)\n",
    "x_train = x_train.astype('float32')\n",
    "x_test = x_test.astype('float32')\n",
    "#归一化到0-1\n",
    "x_train /= 255\n",
    "x_test /= 255\n",
    "print(x_train.shape[0],'train simples')\n",
    "print(x_test.shape[0],'test simples')"
   ]
  },
  {
   "cell_type": "code",
   "execution_count": 21,
   "metadata": {},
   "outputs": [],
   "source": [
    "# 将类别向量(从0到nb_classes的整数向量)映射为二值类别矩阵, 用于应用到以categorical_crossentropy为目标函数的模型中.\n",
    "# y: 类别向量; nb_classes:总共类别数\n",
    "y_train = keras.utils.to_categorical(y_train, num_classes)\n",
    "y_test = keras.utils.to_categorical(y_test, num_classes)"
   ]
  },
  {
   "cell_type": "code",
   "execution_count": 22,
   "metadata": {},
   "outputs": [
    {
     "name": "stdout",
     "output_type": "stream",
     "text": [
      "model.summary:\n",
      "_________________________________________________________________\n",
      "Layer (type)                 Output Shape              Param #   \n",
      "=================================================================\n",
      "dense_4 (Dense)              (None, 512)               401920    \n",
      "_________________________________________________________________\n",
      "dropout_3 (Dropout)          (None, 512)               0         \n",
      "_________________________________________________________________\n",
      "dense_5 (Dense)              (None, 512)               262656    \n",
      "_________________________________________________________________\n",
      "dropout_4 (Dropout)          (None, 512)               0         \n",
      "_________________________________________________________________\n",
      "dense_6 (Dense)              (None, 10)                5130      \n",
      "=================================================================\n",
      "Total params: 669,706\n",
      "Trainable params: 669,706\n",
      "Non-trainable params: 0\n",
      "_________________________________________________________________\n",
      "Train on 60000 samples, validate on 10000 samples\n",
      "Epoch 1/20\n",
      "60000/60000 [==============================] - 9s 154us/step - loss: 0.2433 - acc: 0.9248 - val_loss: 0.1151 - val_acc: 0.9635\n",
      "Epoch 2/20\n",
      "60000/60000 [==============================] - 8s 132us/step - loss: 0.1009 - acc: 0.9695 - val_loss: 0.0861 - val_acc: 0.9750\n",
      "Epoch 3/20\n",
      "60000/60000 [==============================] - 8s 133us/step - loss: 0.0752 - acc: 0.9779 - val_loss: 0.0835 - val_acc: 0.9756\n",
      "Epoch 4/20\n",
      "60000/60000 [==============================] - 8s 132us/step - loss: 0.0608 - acc: 0.9816 - val_loss: 0.0936 - val_acc: 0.9731\n",
      "Epoch 5/20\n",
      "60000/60000 [==============================] - 8s 130us/step - loss: 0.0499 - acc: 0.9856 - val_loss: 0.0752 - val_acc: 0.9809\n",
      "Epoch 6/20\n",
      "60000/60000 [==============================] - 8s 134us/step - loss: 0.0446 - acc: 0.9869 - val_loss: 0.0897 - val_acc: 0.9770\n",
      "Epoch 7/20\n",
      "60000/60000 [==============================] - 8s 130us/step - loss: 0.0400 - acc: 0.9883 - val_loss: 0.0803 - val_acc: 0.9818\n",
      "Epoch 8/20\n",
      "60000/60000 [==============================] - 8s 132us/step - loss: 0.0358 - acc: 0.9895 - val_loss: 0.0806 - val_acc: 0.9820\n",
      "Epoch 9/20\n",
      "60000/60000 [==============================] - 8s 128us/step - loss: 0.0310 - acc: 0.9908 - val_loss: 0.0832 - val_acc: 0.9823\n",
      "Epoch 10/20\n",
      "60000/60000 [==============================] - 8s 131us/step - loss: 0.0293 - acc: 0.9917 - val_loss: 0.0984 - val_acc: 0.9813\n",
      "Epoch 11/20\n",
      "60000/60000 [==============================] - 8s 131us/step - loss: 0.0248 - acc: 0.9931 - val_loss: 0.0856 - val_acc: 0.9829\n",
      "Epoch 12/20\n",
      "60000/60000 [==============================] - 8s 130us/step - loss: 0.0263 - acc: 0.9929 - val_loss: 0.0946 - val_acc: 0.9825\n",
      "Epoch 13/20\n",
      "60000/60000 [==============================] - 8s 131us/step - loss: 0.0230 - acc: 0.9932 - val_loss: 0.0982 - val_acc: 0.9822\n",
      "Epoch 14/20\n",
      "60000/60000 [==============================] - 8s 132us/step - loss: 0.0230 - acc: 0.9935 - val_loss: 0.1177 - val_acc: 0.9800\n",
      "Epoch 15/20\n",
      "60000/60000 [==============================] - 8s 130us/step - loss: 0.0219 - acc: 0.9939 - val_loss: 0.0976 - val_acc: 0.9836\n",
      "Epoch 16/20\n",
      "60000/60000 [==============================] - 8s 131us/step - loss: 0.0199 - acc: 0.9945 - val_loss: 0.1110 - val_acc: 0.9813\n",
      "Epoch 17/20\n",
      "60000/60000 [==============================] - 8s 133us/step - loss: 0.0191 - acc: 0.9950 - val_loss: 0.1207 - val_acc: 0.9808\n",
      "Epoch 18/20\n",
      "60000/60000 [==============================] - 8s 131us/step - loss: 0.0194 - acc: 0.9947 - val_loss: 0.0976 - val_acc: 0.9840\n",
      "Epoch 19/20\n",
      "60000/60000 [==============================] - 8s 130us/step - loss: 0.0184 - acc: 0.9950 - val_loss: 0.0992 - val_acc: 0.9831\n",
      "Epoch 20/20\n",
      "60000/60000 [==============================] - 8s 129us/step - loss: 0.0181 - acc: 0.9954 - val_loss: 0.1116 - val_acc: 0.9835\n",
      "Final Test loss: 0.111594470589\n",
      "Final Test accuracy: 0.9835\n"
     ]
    }
   ],
   "source": [
    "# Dense层:即全连接层\n",
    "# keras.layers.core.Dense(\n",
    "#   output_dim, \n",
    "#   init='glorot_uniform', \n",
    "#   activation='linear', \n",
    "#   weights=None, \n",
    "#   W_regularizer=None,\n",
    "#    b_regularizer=None, \n",
    "#    activity_regularizer=None, \n",
    "#    W_constraint=None, \n",
    "#   b_constraint=None, \n",
    "#   bias=True, \n",
    "#    input_dim=None)\n",
    "\n",
    "#定义贯序模型\n",
    "model = Sequential()\n",
    "model.add(Dense(512,activation='relu',input_shape=(784,)))\n",
    "# Dropout  需要断开的连接的比例---防止过拟合\n",
    "model.add(Dropout(0.2))\n",
    "\n",
    "model.add(Dense(512,activation='relu'))\n",
    "model.add(Dropout(0.2))\n",
    "model.add(Dense(num_classes, activation='softmax'))\n",
    "# 打印出模型概况\n",
    "print('model.summary:')\n",
    "model.summary()\n",
    "\n",
    "#在训练模型之前，通过compile来对学习过程进行配置\n",
    "# 编译模型以供训练\n",
    "# 包含评估模型在训练和测试时的性能的指标，典型用法是metrics=['accuracy']\n",
    "# 如果要在多输出模型中为不同的输出指定不同的指标，可像该参数传递一个字典，例如metrics={'ouput_a': 'accuracy'}\n",
    "model.compile(loss='categorical_crossentropy',\n",
    "             optimizer=RMSprop(),\n",
    "             metrics=['accuracy'])\n",
    "#训练模型\n",
    "# Keras以Numpy数组作为输入数据和标签的数据类型\n",
    "# fit(self, x, y, batch_size=32, \n",
    "# nb_epoch=10, verbose=1, callbacks=[], \n",
    "# validation_split=0.0,validation_data=None, \n",
    "# shuffle=True, class_weight=None, \n",
    "# sample_weight=None)\n",
    "# nb_epoch：整数，训练的轮数，训练数据将会被遍历nb_epoch次。Keras中nb开头的变量均为\"number of\"的意思\n",
    "# verbose：日志显示，0为不在标准输出流输出日志信息，1为输出进度条记录，2为每个epoch输出一行记录\n",
    "# shuffle：布尔值，表示是否在训练过程中每个epoch前随机打乱输入样本的顺序。\n",
    "\n",
    "# fit函数返回一个History的对象，其History.history属性记录了损失函数和其他指标的数值随epoch变化的情况，如果有验证集的话，也包含了验证集的这些指标变化情况\n",
    "history = model.fit(x_train, y_train,\n",
    "                    batch_size=batch_size,\n",
    "                    epochs=epochs,\n",
    "                    verbose=1,\n",
    "                    validation_data=(x_test, y_test))\n",
    "score = model.evaluate(x_test, y_test, verbose=0)\n",
    "print('Final Test loss:', score[0])\n",
    "print('Final Test accuracy:', score[1])"
   ]
  },
  {
   "cell_type": "code",
   "execution_count": null,
   "metadata": {},
   "outputs": [],
   "source": []
  }
 ],
 "metadata": {
  "kernelspec": {
   "display_name": "Python 3",
   "language": "python",
   "name": "python3"
  },
  "language_info": {
   "codemirror_mode": {
    "name": "ipython",
    "version": 3
   },
   "file_extension": ".py",
   "mimetype": "text/x-python",
   "name": "python",
   "nbconvert_exporter": "python",
   "pygments_lexer": "ipython3",
   "version": "3.5.4"
  }
 },
 "nbformat": 4,
 "nbformat_minor": 2
}
